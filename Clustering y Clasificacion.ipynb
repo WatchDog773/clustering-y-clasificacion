{
 "cells": [
  {
   "cell_type": "markdown",
   "metadata": {},
   "source": [
    "# Clustering  y Clasificacion"
   ]
  },
  {
   "cell_type": "markdown",
   "metadata": {},
   "source": [
    "## Integrantes"
   ]
  },
  {
   "cell_type": "markdown",
   "metadata": {},
   "source": [
    "* Diego Rene Buezo Castillo(Coordinador)\n",
    "* Bryan Alejandro Mayorga Meza\n",
    "* Eladio Javier Gómez Gámez                                   \n",
    "* Alessandro Jahzeel Cardona Chavarría\n",
    "* Norman Alfredo Altamirano Ordoñez"
   ]
  },
  {
   "cell_type": "markdown",
   "metadata": {},
   "source": [
    "El clustering tambien es conocido como la segmentacion.\n",
    "\n",
    "Es algo similar a agrupar una tomates en: madurados, algo maduros… y verdes según el color y la “dureza” que observamos.\n",
    "\n",
    "Dicho de otro modo. Una técnica capaz de:\n",
    "\n",
    "Agrupar potenciales clientes en características parecidas según sus visitas y comportamiento en una web, crear grupos de pacientes parecidos según las características de su análisis de sangre, grupos de personalidad parecida según las contestaciones de una encuesta, entre otros ejemplo.\n",
    "\n",
    "En pocas palabras es agrupar deacuerdo a patrones, como el ejemplo de los tomates, se agrupan segun su patron de color."
   ]
  },
  {
   "cell_type": "code",
   "execution_count": 5,
   "metadata": {},
   "outputs": [],
   "source": [
    "import pandas as pd\n",
    "import numpy as np\n",
    "import matplotlib.pyplot as plt\n",
    "from sklearn.cluster import KMeans\n",
    "import os"
   ]
  },
  {
   "cell_type": "code",
   "execution_count": 14,
   "metadata": {},
   "outputs": [
    {
     "data": {
      "text/html": [
       "<div>\n",
       "<style scoped>\n",
       "    .dataframe tbody tr th:only-of-type {\n",
       "        vertical-align: middle;\n",
       "    }\n",
       "\n",
       "    .dataframe tbody tr th {\n",
       "        vertical-align: top;\n",
       "    }\n",
       "\n",
       "    .dataframe thead th {\n",
       "        text-align: right;\n",
       "    }\n",
       "</style>\n",
       "<table border=\"1\" class=\"dataframe\">\n",
       "  <thead>\n",
       "    <tr style=\"text-align: right;\">\n",
       "      <th></th>\n",
       "      <th>cast_total_facebook_likes</th>\n",
       "      <th>imdb_score</th>\n",
       "    </tr>\n",
       "  </thead>\n",
       "  <tbody>\n",
       "    <tr>\n",
       "      <th>0</th>\n",
       "      <td>170118</td>\n",
       "      <td>6.4</td>\n",
       "    </tr>\n",
       "    <tr>\n",
       "      <th>1</th>\n",
       "      <td>140268</td>\n",
       "      <td>6.0</td>\n",
       "    </tr>\n",
       "    <tr>\n",
       "      <th>2</th>\n",
       "      <td>137712</td>\n",
       "      <td>5.7</td>\n",
       "    </tr>\n",
       "    <tr>\n",
       "      <th>3</th>\n",
       "      <td>120797</td>\n",
       "      <td>6.0</td>\n",
       "    </tr>\n",
       "    <tr>\n",
       "      <th>4</th>\n",
       "      <td>108016</td>\n",
       "      <td>5.4</td>\n",
       "    </tr>\n",
       "    <tr>\n",
       "      <th>...</th>\n",
       "      <td>...</td>\n",
       "      <td>...</td>\n",
       "    </tr>\n",
       "    <tr>\n",
       "      <th>58</th>\n",
       "      <td>58528</td>\n",
       "      <td>6.3</td>\n",
       "    </tr>\n",
       "    <tr>\n",
       "      <th>59</th>\n",
       "      <td>57881</td>\n",
       "      <td>6.7</td>\n",
       "    </tr>\n",
       "    <tr>\n",
       "      <th>60</th>\n",
       "      <td>57844</td>\n",
       "      <td>6.7</td>\n",
       "    </tr>\n",
       "    <tr>\n",
       "      <th>61</th>\n",
       "      <td>57802</td>\n",
       "      <td>9.0</td>\n",
       "    </tr>\n",
       "    <tr>\n",
       "      <th>62</th>\n",
       "      <td>57426</td>\n",
       "      <td>7.4</td>\n",
       "    </tr>\n",
       "  </tbody>\n",
       "</table>\n",
       "<p>63 rows × 2 columns</p>\n",
       "</div>"
      ],
      "text/plain": [
       "    cast_total_facebook_likes  imdb_score\n",
       "0                      170118         6.4\n",
       "1                      140268         6.0\n",
       "2                      137712         5.7\n",
       "3                      120797         6.0\n",
       "4                      108016         5.4\n",
       "..                        ...         ...\n",
       "58                      58528         6.3\n",
       "59                      57881         6.7\n",
       "60                      57844         6.7\n",
       "61                      57802         9.0\n",
       "62                      57426         7.4\n",
       "\n",
       "[63 rows x 2 columns]"
      ]
     },
     "execution_count": 14,
     "metadata": {},
     "output_type": "execute_result"
    }
   ],
   "source": [
    "# Codigo obtenido de\n",
    "# https://www.youtube.com/watch?v=w2wzVg0owxU\n",
    "\n",
    "mainpath = \"C:\\\\Users\\\\Alienware\\\\Desktop\\\\DS\"\n",
    "filename = \"moviescs.csv\"\n",
    "fullpath = os.path.join(mainpath, filename)\n",
    "data = pd.read_csv(fullpath)\n",
    "df = pd.DataFrame(data)\n",
    "data"
   ]
  },
  {
   "cell_type": "code",
   "execution_count": 21,
   "metadata": {},
   "outputs": [
    {
     "data": {
      "text/plain": [
       "cast_total_facebook_likes    0\n",
       "imdb_score                   0\n",
       "dtype: int64"
      ]
     },
     "execution_count": 21,
     "metadata": {},
     "output_type": "execute_result"
    }
   ],
   "source": [
    "x = data['cast_total_facebook_likes'].values\n",
    "y = data['imdb_score'].values\n",
    "\n",
    "# Verificar si el dataset esta limpio\n",
    "pd.isna(data).sum()"
   ]
  },
  {
   "cell_type": "code",
   "execution_count": 22,
   "metadata": {},
   "outputs": [
    {
     "name": "stdout",
     "output_type": "stream",
     "text": [
      "El valor maximo de likes es:  170118\n"
     ]
    }
   ],
   "source": [
    "# Imprimimos el valor maximo de likes\n",
    "print(\"El valor maximo de likes es: \", data['cast_total_facebook_likes'].max())"
   ]
  },
  {
   "cell_type": "code",
   "execution_count": 24,
   "metadata": {},
   "outputs": [
    {
     "name": "stdout",
     "output_type": "stream",
     "text": [
      "El valor minimo de likes es:  57426\n"
     ]
    }
   ],
   "source": [
    "print(\"El valor minimo de likes es: \", data['cast_total_facebook_likes'].min())"
   ]
  },
  {
   "cell_type": "code",
   "execution_count": 27,
   "metadata": {},
   "outputs": [
    {
     "name": "stdout",
     "output_type": "stream",
     "text": [
      "El valor promedio de likes es:  77873\n"
     ]
    }
   ],
   "source": [
    "print(\"El valor promedio de likes es: \", int(data['cast_total_facebook_likes'].mean()))"
   ]
  },
  {
   "cell_type": "code",
   "execution_count": 44,
   "metadata": {},
   "outputs": [
    {
     "data": {
      "text/plain": [
       "array([[1.70118e+05, 6.40000e+00],\n",
       "       [1.40268e+05, 6.00000e+00],\n",
       "       [1.37712e+05, 5.70000e+00],\n",
       "       [1.20797e+05, 6.00000e+00],\n",
       "       [1.08016e+05, 5.40000e+00],\n",
       "       [1.06759e+05, 8.50000e+00],\n",
       "       [1.03354e+05, 6.60000e+00],\n",
       "       [1.01383e+05, 5.80000e+00],\n",
       "       [9.24560e+04, 5.60000e+00],\n",
       "       [9.20000e+04, 7.50000e+00],\n",
       "       [9.14340e+04, 8.00000e+00],\n",
       "       [8.92630e+04, 6.70000e+00],\n",
       "       [8.89530e+04, 7.00000e+00],\n",
       "       [8.84220e+04, 4.90000e+00],\n",
       "       [8.76970e+04, 8.10000e+00],\n",
       "       [8.76970e+04, 8.10000e+00],\n",
       "       [8.30120e+04, 7.30000e+00],\n",
       "       [8.13850e+04, 6.60000e+00],\n",
       "       [8.13850e+04, 6.70000e+00],\n",
       "       [8.11150e+04, 8.80000e+00],\n",
       "       [8.08490e+04, 6.20000e+00],\n",
       "       [8.08060e+04, 6.40000e+00],\n",
       "       [7.99570e+04, 6.50000e+00],\n",
       "       [7.99570e+04, 6.50000e+00],\n",
       "       [7.91500e+04, 7.20000e+00],\n",
       "       [7.78230e+04, 6.70000e+00],\n",
       "       [7.70460e+04, 6.40000e+00],\n",
       "       [7.57930e+04, 6.60000e+00],\n",
       "       [7.43820e+04, 6.70000e+00],\n",
       "       [7.41810e+04, 5.60000e+00],\n",
       "       [7.34410e+04, 6.40000e+00],\n",
       "       [7.34410e+04, 6.40000e+00],\n",
       "       [7.28810e+04, 6.10000e+00],\n",
       "       [7.21150e+04, 7.80000e+00],\n",
       "       [7.19730e+04, 5.70000e+00],\n",
       "       [7.09960e+04, 6.50000e+00],\n",
       "       [6.97460e+04, 7.80000e+00],\n",
       "       [6.47980e+04, 8.20000e+00],\n",
       "       [6.45990e+04, 7.00000e+00],\n",
       "       [6.42590e+04, 6.70000e+00],\n",
       "       [6.40400e+04, 4.60000e+00],\n",
       "       [6.39860e+04, 8.50000e+00],\n",
       "       [6.37690e+04, 7.00000e+00],\n",
       "       [6.37100e+04, 8.30000e+00],\n",
       "       [6.31940e+04, 6.70000e+00],\n",
       "       [6.31650e+04, 6.00000e+00],\n",
       "       [6.28370e+04, 6.00000e+00],\n",
       "       [6.26440e+04, 5.90000e+00],\n",
       "       [6.11100e+04, 7.20000e+00],\n",
       "       [6.06830e+04, 7.40000e+00],\n",
       "       [6.06460e+04, 7.10000e+00],\n",
       "       [6.00590e+04, 7.00000e+00],\n",
       "       [5.98030e+04, 7.10000e+00],\n",
       "       [5.95580e+04, 8.30000e+00],\n",
       "       [5.91770e+04, 5.50000e+00],\n",
       "       [5.91770e+04, 5.50000e+00],\n",
       "       [5.88230e+04, 7.80000e+00],\n",
       "       [5.87530e+04, 7.50000e+00],\n",
       "       [5.85280e+04, 6.30000e+00],\n",
       "       [5.78810e+04, 6.70000e+00],\n",
       "       [5.78440e+04, 6.70000e+00],\n",
       "       [5.78020e+04, 9.00000e+00],\n",
       "       [5.74260e+04, 7.40000e+00]])"
      ]
     },
     "execution_count": 44,
     "metadata": {},
     "output_type": "execute_result"
    }
   ],
   "source": [
    "# Para la agrupacion hay que tener los datos en una matriz\n",
    "# info = df[['cast_total_facebook_likes', 'imdb_score']].as_matrix()\n",
    "X = np.array(list(zip(x, y)))\n",
    "X"
   ]
  },
  {
   "cell_type": "code",
   "execution_count": 55,
   "metadata": {},
   "outputs": [],
   "source": [
    "# Agrupamiento\n",
    "# Comenzamos con 3 grupos\n",
    "kmeans = KMeans(n_clusters = 3)\n",
    "kmeans = kmeans.fit(X)"
   ]
  },
  {
   "cell_type": "code",
   "execution_count": 56,
   "metadata": {},
   "outputs": [],
   "source": [
    "# Agregar etiquetas a los datos\n",
    "labels = kmeans.predict(X) # Esto esta basado en los centroides\n",
    "centroids = kmeans.cluster_centers_"
   ]
  },
  {
   "cell_type": "code",
   "execution_count": 57,
   "metadata": {},
   "outputs": [],
   "source": [
    "# Vamos de finir los colores que tendrian los clusters\n",
    "colors = [\"m.\", \"r.\", \"c.\", \"y.\", \"b.\"]"
   ]
  },
  {
   "cell_type": "code",
   "execution_count": 58,
   "metadata": {},
   "outputs": [
    {
     "name": "stdout",
     "output_type": "stream",
     "text": [
      "Coordenada:  [1.70118e+05 6.40000e+00] Etiqueta:  1\n",
      "Coordenada:  [1.40268e+05 6.00000e+00] Etiqueta:  1\n",
      "Coordenada:  [1.37712e+05 5.70000e+00] Etiqueta:  1\n",
      "Coordenada:  [1.20797e+05 6.00000e+00] Etiqueta:  1\n",
      "Coordenada:  [1.08016e+05 5.40000e+00] Etiqueta:  2\n",
      "Coordenada:  [1.06759e+05 8.50000e+00] Etiqueta:  2\n",
      "Coordenada:  [1.03354e+05 6.60000e+00] Etiqueta:  2\n",
      "Coordenada:  [1.01383e+05 5.80000e+00] Etiqueta:  2\n",
      "Coordenada:  [9.2456e+04 5.6000e+00] Etiqueta:  2\n",
      "Coordenada:  [9.2e+04 7.5e+00] Etiqueta:  2\n",
      "Coordenada:  [9.1434e+04 8.0000e+00] Etiqueta:  2\n",
      "Coordenada:  [8.9263e+04 6.7000e+00] Etiqueta:  2\n",
      "Coordenada:  [8.8953e+04 7.0000e+00] Etiqueta:  2\n",
      "Coordenada:  [8.8422e+04 4.9000e+00] Etiqueta:  2\n",
      "Coordenada:  [8.7697e+04 8.1000e+00] Etiqueta:  2\n",
      "Coordenada:  [8.7697e+04 8.1000e+00] Etiqueta:  2\n",
      "Coordenada:  [8.3012e+04 7.3000e+00] Etiqueta:  2\n",
      "Coordenada:  [8.1385e+04 6.6000e+00] Etiqueta:  2\n",
      "Coordenada:  [8.1385e+04 6.7000e+00] Etiqueta:  2\n",
      "Coordenada:  [8.1115e+04 8.8000e+00] Etiqueta:  2\n",
      "Coordenada:  [8.0849e+04 6.2000e+00] Etiqueta:  2\n",
      "Coordenada:  [8.0806e+04 6.4000e+00] Etiqueta:  2\n",
      "Coordenada:  [7.9957e+04 6.5000e+00] Etiqueta:  2\n",
      "Coordenada:  [7.9957e+04 6.5000e+00] Etiqueta:  2\n",
      "Coordenada:  [7.915e+04 7.200e+00] Etiqueta:  2\n",
      "Coordenada:  [7.7823e+04 6.7000e+00] Etiqueta:  2\n",
      "Coordenada:  [7.7046e+04 6.4000e+00] Etiqueta:  2\n",
      "Coordenada:  [7.5793e+04 6.6000e+00] Etiqueta:  0\n",
      "Coordenada:  [7.4382e+04 6.7000e+00] Etiqueta:  0\n",
      "Coordenada:  [7.4181e+04 5.6000e+00] Etiqueta:  0\n",
      "Coordenada:  [7.3441e+04 6.4000e+00] Etiqueta:  0\n",
      "Coordenada:  [7.3441e+04 6.4000e+00] Etiqueta:  0\n",
      "Coordenada:  [7.2881e+04 6.1000e+00] Etiqueta:  0\n",
      "Coordenada:  [7.2115e+04 7.8000e+00] Etiqueta:  0\n",
      "Coordenada:  [7.1973e+04 5.7000e+00] Etiqueta:  0\n",
      "Coordenada:  [7.0996e+04 6.5000e+00] Etiqueta:  0\n",
      "Coordenada:  [6.9746e+04 7.8000e+00] Etiqueta:  0\n",
      "Coordenada:  [6.4798e+04 8.2000e+00] Etiqueta:  0\n",
      "Coordenada:  [6.4599e+04 7.0000e+00] Etiqueta:  0\n",
      "Coordenada:  [6.4259e+04 6.7000e+00] Etiqueta:  0\n",
      "Coordenada:  [6.404e+04 4.600e+00] Etiqueta:  0\n",
      "Coordenada:  [6.3986e+04 8.5000e+00] Etiqueta:  0\n",
      "Coordenada:  [6.3769e+04 7.0000e+00] Etiqueta:  0\n",
      "Coordenada:  [6.371e+04 8.300e+00] Etiqueta:  0\n",
      "Coordenada:  [6.3194e+04 6.7000e+00] Etiqueta:  0\n",
      "Coordenada:  [6.3165e+04 6.0000e+00] Etiqueta:  0\n",
      "Coordenada:  [6.2837e+04 6.0000e+00] Etiqueta:  0\n",
      "Coordenada:  [6.2644e+04 5.9000e+00] Etiqueta:  0\n",
      "Coordenada:  [6.111e+04 7.200e+00] Etiqueta:  0\n",
      "Coordenada:  [6.0683e+04 7.4000e+00] Etiqueta:  0\n",
      "Coordenada:  [6.0646e+04 7.1000e+00] Etiqueta:  0\n",
      "Coordenada:  [6.0059e+04 7.0000e+00] Etiqueta:  0\n",
      "Coordenada:  [5.9803e+04 7.1000e+00] Etiqueta:  0\n",
      "Coordenada:  [5.9558e+04 8.3000e+00] Etiqueta:  0\n",
      "Coordenada:  [5.9177e+04 5.5000e+00] Etiqueta:  0\n",
      "Coordenada:  [5.9177e+04 5.5000e+00] Etiqueta:  0\n",
      "Coordenada:  [5.8823e+04 7.8000e+00] Etiqueta:  0\n",
      "Coordenada:  [5.8753e+04 7.5000e+00] Etiqueta:  0\n",
      "Coordenada:  [5.8528e+04 6.3000e+00] Etiqueta:  0\n",
      "Coordenada:  [5.7881e+04 6.7000e+00] Etiqueta:  0\n",
      "Coordenada:  [5.7844e+04 6.7000e+00] Etiqueta:  0\n",
      "Coordenada:  [5.7802e+04 9.0000e+00] Etiqueta:  0\n",
      "Coordenada:  [5.7426e+04 7.4000e+00] Etiqueta:  0\n"
     ]
    },
    {
     "data": {
      "image/png": "[encoded data removed]",
      "text/plain": [
       "<Figure size 432x288 with 1 Axes>"
      ]
     },
     "metadata": {
      "needs_background": "light"
     },
     "output_type": "display_data"
    }
   ],
   "source": [
    "# Imprimir la coordenada\n",
    "for i in range(len(X)):\n",
    "    print(\"Coordenada: \", X[i], \"Etiqueta: \", labels[i])\n",
    "    plt.plot(X[i][0], X[i][1], colors[labels[i]], markersize = 10)\n",
    "\n",
    "# Graficar los centroides\n",
    "plt.scatter(centroids[:,0], centroids[:,1], marker = \"x\", s = 150, linewidths = 5, zorder = 10)\n",
    "plt.show()"
   ]
  },
  {
   "cell_type": "raw",
   "metadata": {},
   "source": [
    "Los de la etiqueta morada son el 0 y de las roja de la etiqueta 1, los de la etiqueta 2 son los verdes"
   ]
  },
  {
   "cell_type": "code",
   "execution_count": null,
   "metadata": {},
   "outputs": [],
   "source": []
  }
 ],
 "metadata": {
  "kernelspec": {
   "display_name": "Python 3",
   "language": "python",
   "name": "python3"
  },
  "language_info": {
   "codemirror_mode": {
    "name": "ipython",
    "version": 3
   },
   "file_extension": ".py",
   "mimetype": "text/x-python",
   "name": "python",
   "nbconvert_exporter": "python",
   "pygments_lexer": "ipython3",
   "version": "3.8.1"
  }
 },
 "nbformat": 4,
 "nbformat_minor": 4
}
