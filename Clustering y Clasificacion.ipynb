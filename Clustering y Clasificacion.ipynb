{
 "cells": [
  {
   "cell_type": "markdown",
   "metadata": {},
   "source": [
    "# Clustering  y Clasificacion"
   ]
  },
  {
   "cell_type": "markdown",
   "metadata": {},
   "source": [
    "## Integrantes"
   ]
  },
  {
   "cell_type": "markdown",
   "metadata": {},
   "source": [
    "* Diego Rene Buezo Castillo(Coordinador)\n",
    "* Bryan Alejandro Mayorga Meza\n",
    "* Eladio Javier Gómez Gámez                                   \n",
    "* Alessandro Jahzeel Cardona Chavarría\n",
    "* Norman Alfredo Altamirano Ordoñez"
   ]
  },
  {
   "cell_type": "markdown",
   "metadata": {},
   "source": [
    "El clustering tambien es conocido como la segmentacion "
   ]
  }
 ],
 "metadata": {
  "kernelspec": {
   "display_name": "Python 3",
   "language": "python",
   "name": "python3"
  },
  "language_info": {
   "codemirror_mode": {
    "name": "ipython",
    "version": 3
   },
   "file_extension": ".py",
   "mimetype": "text/x-python",
   "name": "python",
   "nbconvert_exporter": "python",
   "pygments_lexer": "ipython3",
   "version": "3.8.1"
  }
 },
 "nbformat": 4,
 "nbformat_minor": 4
}
